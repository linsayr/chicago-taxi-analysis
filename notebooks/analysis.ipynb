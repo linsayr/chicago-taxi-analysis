{
 "cells": [
  {
   "cell_type": "markdown",
   "id": "8548f51c",
   "metadata": {},
   "source": [
    "# 🚖 Análisis de Taxis en Chicago\n",
    "\n",
    "**Proyecto de Análisis Exploratorio y Prueba de Hipótesis**\n",
    "\n",
    "Este proyecto analiza datos de viajes en taxi en Chicago durante noviembre de 2017. Exploraremos qué empresas tienen más viajes, qué barrios son los destinos más comunes y realizaremos una prueba de hipótesis sobre el impacto del clima en la duración de los viajes."
   ]
  },
  {
   "cell_type": "code",
   "execution_count": 1,
   "id": "0bbd5ae4",
   "metadata": {},
   "outputs": [],
   "source": [
    "# Cargar las librerías necesarias\n",
    "import pandas as pd\n",
    "import matplotlib.pyplot as plt\n",
    "import seaborn as sns\n",
    "from scipy.stats import levene\n",
    "from scipy import stats"
   ]
  },
  {
   "cell_type": "code",
   "execution_count": 2,
   "id": "1344d403",
   "metadata": {},
   "outputs": [],
   "source": [
    "# Cargar archivos CSV\n",
    "df_companies = pd.read_csv(\"project_sql_result_01.csv\")\n",
    "df_locations = pd.read_csv(\"project_sql_result_04.csv\")"
   ]
  },
  {
   "cell_type": "code",
   "execution_count": 3,
   "id": "07e6e63f",
   "metadata": {},
   "outputs": [
    {
     "name": "stdout",
     "output_type": "stream",
     "text": [
      "                      company_name  trips_amount\n",
      "0                        Flash Cab         19558\n",
      "1        Taxi Affiliation Services         11422\n",
      "2                 Medallion Leasin         10367\n",
      "3                       Yellow Cab          9888\n",
      "4  Taxi Affiliation Service Yellow          9299\n",
      "  dropoff_location_name  average_trips\n",
      "0                  Loop   10727.466667\n",
      "1           River North    9523.666667\n",
      "2         Streeterville    6664.666667\n",
      "3             West Loop    5163.666667\n",
      "4                O'Hare    2546.900000\n",
      "\n",
      "Información general del dataset:\n",
      "<class 'pandas.core.frame.DataFrame'>\n",
      "RangeIndex: 64 entries, 0 to 63\n",
      "Data columns (total 2 columns):\n",
      " #   Column        Non-Null Count  Dtype \n",
      "---  ------        --------------  ----- \n",
      " 0   company_name  64 non-null     object\n",
      " 1   trips_amount  64 non-null     int64 \n",
      "dtypes: int64(1), object(1)\n",
      "memory usage: 1.1+ KB\n",
      "None\n",
      "<class 'pandas.core.frame.DataFrame'>\n",
      "RangeIndex: 94 entries, 0 to 93\n",
      "Data columns (total 2 columns):\n",
      " #   Column                 Non-Null Count  Dtype  \n",
      "---  ------                 --------------  -----  \n",
      " 0   dropoff_location_name  94 non-null     object \n",
      " 1   average_trips          94 non-null     float64\n",
      "dtypes: float64(1), object(1)\n",
      "memory usage: 1.6+ KB\n",
      "None\n",
      "\n",
      "Valores nulos por columna:\n",
      "company_name    0\n",
      "trips_amount    0\n",
      "dtype: int64\n",
      "dropoff_location_name    0\n",
      "average_trips            0\n",
      "dtype: int64\n"
     ]
    }
   ],
   "source": [
    "# Mostrar las primeras filas del dataset\n",
    "print(df_companies.head())\n",
    "print(df_locations.head())\n",
    "\n",
    "# Información general del dataset\n",
    "print(\"\\nInformación general del dataset:\")\n",
    "print(df_companies.info())\n",
    "print(df_locations.info())\n",
    "\n",
    "# Verificar valores nulos\n",
    "print(\"\\nValores nulos por columna:\")\n",
    "print(df_companies.isnull().sum())\n",
    "print(df_locations.isnull().sum())"
   ]
  },
  {
   "cell_type": "markdown",
   "id": "2f4de48c",
   "metadata": {},
   "source": [
    "1.1 Verificar tipos de datos"
   ]
  },
  {
   "cell_type": "code",
   "execution_count": null,
   "id": "1b90fd06",
   "metadata": {},
   "outputs": [],
   "source": []
  }
 ],
 "metadata": {
  "kernelspec": {
   "display_name": "Python (venv)",
   "language": "python",
   "name": "venv"
  },
  "language_info": {
   "codemirror_mode": {
    "name": "ipython",
    "version": 3
   },
   "file_extension": ".py",
   "mimetype": "text/x-python",
   "name": "python",
   "nbconvert_exporter": "python",
   "pygments_lexer": "ipython3",
   "version": "3.7.12"
  }
 },
 "nbformat": 4,
 "nbformat_minor": 5
}
