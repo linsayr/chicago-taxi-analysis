{
 "cells": [
  {
   "cell_type": "markdown",
   "id": "8548f51c",
   "metadata": {},
   "source": [
    "# 🚖 Análisis de Taxis en Chicago\n",
    "\n",
    "**Proyecto de Análisis Exploratorio y Prueba de Hipótesis**\n",
    "\n",
    "Este proyecto analiza datos de viajes en taxi en Chicago durante noviembre de 2017. Exploraremos qué empresas tienen más viajes, qué barrios son los destinos más comunes y realizaremos una prueba de hipótesis sobre el impacto del clima en la duración de los viajes."
   ]
  },
  {
   "cell_type": "markdown",
   "id": "613b13fe",
   "metadata": {},
   "source": [
    "# Paso 4:"
   ]
  },
  {
   "cell_type": "markdown",
   "id": "2f4de48c",
   "metadata": {},
   "source": [
    "### 1.1 Inicialización"
   ]
  },
  {
   "cell_type": "code",
   "execution_count": 125,
   "id": "0bbd5ae4",
   "metadata": {},
   "outputs": [],
   "source": [
    "# Cargar las librerías necesarias\n",
    "import pandas as pd\n",
    "import matplotlib.pyplot as plt\n",
    "import seaborn as sns\n",
    "from scipy.stats import levene\n",
    "from scipy import stats\n",
    "from scipy.stats import ttest_ind\n",
    "import numpy as np"
   ]
  },
  {
   "cell_type": "markdown",
   "id": "02e3e1dc",
   "metadata": {},
   "source": [
    "### 1.2 Cargar datos"
   ]
  },
  {
   "cell_type": "code",
   "execution_count": 126,
   "id": "1344d403",
   "metadata": {},
   "outputs": [],
   "source": [
    "# Cargar archivos CSV\n",
    "df_companies = pd.read_csv(\"project_sql_result_01.csv\")\n",
    "df_locations = pd.read_csv(\"project_sql_result_04.csv\")\n",
    "df_trips = pd.read_csv(\"project_sql_result_07.csv\")"
   ]
  },
  {
   "cell_type": "markdown",
   "id": "a28cb9a1",
   "metadata": {},
   "source": [
    "### 1.3 Vista general"
   ]
  },
  {
   "cell_type": "code",
   "execution_count": 127,
   "id": "07e6e63f",
   "metadata": {},
   "outputs": [
    {
     "name": "stdout",
     "output_type": "stream",
     "text": [
      "Primeras filas del dataset:\n",
      "                      company_name  trips_amount\n",
      "0                        Flash Cab         19558\n",
      "1        Taxi Affiliation Services         11422\n",
      "2                 Medallion Leasin         10367\n",
      "3                       Yellow Cab          9888\n",
      "4  Taxi Affiliation Service Yellow          9299\n",
      "  dropoff_location_name  average_trips\n",
      "0                  Loop   10727.466667\n",
      "1           River North    9523.666667\n",
      "2         Streeterville    6664.666667\n",
      "3             West Loop    5163.666667\n",
      "4                O'Hare    2546.900000\n",
      "              start_ts weather_conditions  duration_seconds\n",
      "0  2017-11-25 16:00:00               Good            2410.0\n",
      "1  2017-11-25 14:00:00               Good            1920.0\n",
      "2  2017-11-25 12:00:00               Good            1543.0\n",
      "3  2017-11-04 10:00:00               Good            2512.0\n",
      "4  2017-11-11 07:00:00               Good            1440.0\n",
      "\n",
      "Información general del dataset:\n",
      "<class 'pandas.core.frame.DataFrame'>\n",
      "RangeIndex: 64 entries, 0 to 63\n",
      "Data columns (total 2 columns):\n",
      " #   Column        Non-Null Count  Dtype \n",
      "---  ------        --------------  ----- \n",
      " 0   company_name  64 non-null     object\n",
      " 1   trips_amount  64 non-null     int64 \n",
      "dtypes: int64(1), object(1)\n",
      "memory usage: 1.1+ KB\n",
      "None\n",
      "<class 'pandas.core.frame.DataFrame'>\n",
      "RangeIndex: 94 entries, 0 to 93\n",
      "Data columns (total 2 columns):\n",
      " #   Column                 Non-Null Count  Dtype  \n",
      "---  ------                 --------------  -----  \n",
      " 0   dropoff_location_name  94 non-null     object \n",
      " 1   average_trips          94 non-null     float64\n",
      "dtypes: float64(1), object(1)\n",
      "memory usage: 1.6+ KB\n",
      "None\n",
      "<class 'pandas.core.frame.DataFrame'>\n",
      "RangeIndex: 1068 entries, 0 to 1067\n",
      "Data columns (total 3 columns):\n",
      " #   Column              Non-Null Count  Dtype  \n",
      "---  ------              --------------  -----  \n",
      " 0   start_ts            1068 non-null   object \n",
      " 1   weather_conditions  1068 non-null   object \n",
      " 2   duration_seconds    1068 non-null   float64\n",
      "dtypes: float64(1), object(2)\n",
      "memory usage: 25.2+ KB\n",
      "None\n",
      "\n",
      "Valores nulos por columna:\n",
      "company_name    0\n",
      "trips_amount    0\n",
      "dtype: int64\n",
      "dropoff_location_name    0\n",
      "average_trips            0\n",
      "dtype: int64\n",
      "start_ts              0\n",
      "weather_conditions    0\n",
      "duration_seconds      0\n",
      "dtype: int64\n",
      "Duplicados en df_companies:\n",
      "Total duplicados: 0\n"
     ]
    },
    {
     "data": {
      "text/html": [
       "<div>\n",
       "<style scoped>\n",
       "    .dataframe tbody tr th:only-of-type {\n",
       "        vertical-align: middle;\n",
       "    }\n",
       "\n",
       "    .dataframe tbody tr th {\n",
       "        vertical-align: top;\n",
       "    }\n",
       "\n",
       "    .dataframe thead th {\n",
       "        text-align: right;\n",
       "    }\n",
       "</style>\n",
       "<table border=\"1\" class=\"dataframe\">\n",
       "  <thead>\n",
       "    <tr style=\"text-align: right;\">\n",
       "      <th></th>\n",
       "      <th>company_name</th>\n",
       "      <th>trips_amount</th>\n",
       "    </tr>\n",
       "  </thead>\n",
       "  <tbody>\n",
       "  </tbody>\n",
       "</table>\n",
       "</div>"
      ],
      "text/plain": [
       "Empty DataFrame\n",
       "Columns: [company_name, trips_amount]\n",
       "Index: []"
      ]
     },
     "metadata": {},
     "output_type": "display_data"
    },
    {
     "name": "stdout",
     "output_type": "stream",
     "text": [
      "\n",
      " Duplicados en df_locations:\n",
      "Total duplicados: 0\n"
     ]
    },
    {
     "data": {
      "text/html": [
       "<div>\n",
       "<style scoped>\n",
       "    .dataframe tbody tr th:only-of-type {\n",
       "        vertical-align: middle;\n",
       "    }\n",
       "\n",
       "    .dataframe tbody tr th {\n",
       "        vertical-align: top;\n",
       "    }\n",
       "\n",
       "    .dataframe thead th {\n",
       "        text-align: right;\n",
       "    }\n",
       "</style>\n",
       "<table border=\"1\" class=\"dataframe\">\n",
       "  <thead>\n",
       "    <tr style=\"text-align: right;\">\n",
       "      <th></th>\n",
       "      <th>dropoff_location_name</th>\n",
       "      <th>average_trips</th>\n",
       "    </tr>\n",
       "  </thead>\n",
       "  <tbody>\n",
       "  </tbody>\n",
       "</table>\n",
       "</div>"
      ],
      "text/plain": [
       "Empty DataFrame\n",
       "Columns: [dropoff_location_name, average_trips]\n",
       "Index: []"
      ]
     },
     "metadata": {},
     "output_type": "display_data"
    },
    {
     "name": "stdout",
     "output_type": "stream",
     "text": [
      "\n",
      " Duplicados en df_trips:\n",
      "Total duplicados: 197\n"
     ]
    },
    {
     "data": {
      "text/html": [
       "<div>\n",
       "<style scoped>\n",
       "    .dataframe tbody tr th:only-of-type {\n",
       "        vertical-align: middle;\n",
       "    }\n",
       "\n",
       "    .dataframe tbody tr th {\n",
       "        vertical-align: top;\n",
       "    }\n",
       "\n",
       "    .dataframe thead th {\n",
       "        text-align: right;\n",
       "    }\n",
       "</style>\n",
       "<table border=\"1\" class=\"dataframe\">\n",
       "  <thead>\n",
       "    <tr style=\"text-align: right;\">\n",
       "      <th></th>\n",
       "      <th>start_ts</th>\n",
       "      <th>weather_conditions</th>\n",
       "      <th>duration_seconds</th>\n",
       "    </tr>\n",
       "  </thead>\n",
       "  <tbody>\n",
       "    <tr>\n",
       "      <th>62</th>\n",
       "      <td>2017-11-11 06:00:00</td>\n",
       "      <td>Good</td>\n",
       "      <td>1260.0</td>\n",
       "    </tr>\n",
       "    <tr>\n",
       "      <th>74</th>\n",
       "      <td>2017-11-11 08:00:00</td>\n",
       "      <td>Good</td>\n",
       "      <td>1380.0</td>\n",
       "    </tr>\n",
       "    <tr>\n",
       "      <th>76</th>\n",
       "      <td>2017-11-04 09:00:00</td>\n",
       "      <td>Good</td>\n",
       "      <td>1380.0</td>\n",
       "    </tr>\n",
       "    <tr>\n",
       "      <th>117</th>\n",
       "      <td>2017-11-11 07:00:00</td>\n",
       "      <td>Good</td>\n",
       "      <td>1380.0</td>\n",
       "    </tr>\n",
       "    <tr>\n",
       "      <th>119</th>\n",
       "      <td>2017-11-04 14:00:00</td>\n",
       "      <td>Good</td>\n",
       "      <td>3300.0</td>\n",
       "    </tr>\n",
       "    <tr>\n",
       "      <th>...</th>\n",
       "      <td>...</td>\n",
       "      <td>...</td>\n",
       "      <td>...</td>\n",
       "    </tr>\n",
       "    <tr>\n",
       "      <th>1054</th>\n",
       "      <td>2017-11-11 07:00:00</td>\n",
       "      <td>Good</td>\n",
       "      <td>1380.0</td>\n",
       "    </tr>\n",
       "    <tr>\n",
       "      <th>1058</th>\n",
       "      <td>2017-11-25 12:00:00</td>\n",
       "      <td>Good</td>\n",
       "      <td>1440.0</td>\n",
       "    </tr>\n",
       "    <tr>\n",
       "      <th>1062</th>\n",
       "      <td>2017-11-11 06:00:00</td>\n",
       "      <td>Good</td>\n",
       "      <td>1500.0</td>\n",
       "    </tr>\n",
       "    <tr>\n",
       "      <th>1065</th>\n",
       "      <td>2017-11-11 13:00:00</td>\n",
       "      <td>Good</td>\n",
       "      <td>2100.0</td>\n",
       "    </tr>\n",
       "    <tr>\n",
       "      <th>1066</th>\n",
       "      <td>2017-11-11 08:00:00</td>\n",
       "      <td>Good</td>\n",
       "      <td>1380.0</td>\n",
       "    </tr>\n",
       "  </tbody>\n",
       "</table>\n",
       "<p>197 rows × 3 columns</p>\n",
       "</div>"
      ],
      "text/plain": [
       "                 start_ts weather_conditions  duration_seconds\n",
       "62    2017-11-11 06:00:00               Good            1260.0\n",
       "74    2017-11-11 08:00:00               Good            1380.0\n",
       "76    2017-11-04 09:00:00               Good            1380.0\n",
       "117   2017-11-11 07:00:00               Good            1380.0\n",
       "119   2017-11-04 14:00:00               Good            3300.0\n",
       "...                   ...                ...               ...\n",
       "1054  2017-11-11 07:00:00               Good            1380.0\n",
       "1058  2017-11-25 12:00:00               Good            1440.0\n",
       "1062  2017-11-11 06:00:00               Good            1500.0\n",
       "1065  2017-11-11 13:00:00               Good            2100.0\n",
       "1066  2017-11-11 08:00:00               Good            1380.0\n",
       "\n",
       "[197 rows x 3 columns]"
      ]
     },
     "metadata": {},
     "output_type": "display_data"
    }
   ],
   "source": [
    "# Mostrar las primeras filas del dataset\n",
    "print(\"Primeras filas del dataset:\")\n",
    "print(df_companies.head())\n",
    "print(df_locations.head())\n",
    "print(df_trips.head())\n",
    "\n",
    "# Información general del dataset\n",
    "print(\"\\nInformación general del dataset:\")\n",
    "print(df_companies.info())\n",
    "print(df_locations.info())\n",
    "print(df_trips.info())\n",
    "\n",
    "# Verificar valores nulos\n",
    "print(\"\\nValores nulos por columna:\")\n",
    "print(df_companies.isnull().sum())\n",
    "print(df_locations.isnull().sum())\n",
    "print(df_trips.isnull().sum())\n",
    "\n",
    "# Verificar duplicados en df_companies\n",
    "print(\"Duplicados en df_companies:\")\n",
    "print(f\"Total duplicados: {df_companies.duplicated().sum()}\")\n",
    "display(df_companies[df_companies.duplicated()])\n",
    "\n",
    "# Verificar duplicados en df_locations\n",
    "print(\"\\n Duplicados en df_locations:\")\n",
    "print(f\"Total duplicados: {df_locations.duplicated().sum()}\")\n",
    "display(df_locations[df_locations.duplicated()])\n",
    "\n",
    "# Duplicados\n",
    "print(\"\\n Duplicados en df_trips:\")\n",
    "print(f\"Total duplicados: {df_trips.duplicated().sum()}\")\n",
    "if df_trips.duplicated().sum() > 0:\n",
    "    display(df_trips[df_trips.duplicated()])\n",
    "else:\n",
    "    print(\"No hay duplicados.\")"
   ]
  },
  {
   "cell_type": "markdown",
   "id": "b57766f1",
   "metadata": {},
   "source": [
    "Conclusión: "
   ]
  },
  {
   "cell_type": "markdown",
   "id": "5312d585",
   "metadata": {},
   "source": [
    "### 1.4 Limpieza de valores nulos"
   ]
  },
  {
   "cell_type": "code",
   "execution_count": 128,
   "id": "e956d0b7",
   "metadata": {},
   "outputs": [
    {
     "name": "stdout",
     "output_type": "stream",
     "text": [
      "Número de filas tras eliminar duplicados: 871\n"
     ]
    }
   ],
   "source": [
    "# Eliminar duplicados en df_trips\n",
    "df_trips_clean = df_trips.drop_duplicates().reset_index(drop=True)\n",
    "\n",
    "# Verificamos nuevamente\n",
    "print(f\"Número de filas tras eliminar duplicados: {len(df_trips_clean)}\")"
   ]
  },
  {
   "cell_type": "markdown",
   "id": "4590922e",
   "metadata": {},
   "source": [
    "### 1.5 Identificar los 10 principales barrios por finalización de viajes"
   ]
  },
  {
   "cell_type": "code",
   "execution_count": 129,
   "id": "d776f067",
   "metadata": {},
   "outputs": [
    {
     "name": "stdout",
     "output_type": "stream",
     "text": [
      "  dropoff_location_name  average_trips\n",
      "0                  Loop   10727.466667\n",
      "1           River North    9523.666667\n",
      "2         Streeterville    6664.666667\n",
      "3             West Loop    5163.666667\n",
      "4                O'Hare    2546.900000\n",
      "5             Lake View    2420.966667\n",
      "6            Grant Park    2068.533333\n",
      "7         Museum Campus    1510.000000\n",
      "8            Gold Coast    1364.233333\n",
      "9    Sheffield & DePaul    1259.766667\n"
     ]
    }
   ],
   "source": [
    "# Ordenar por average_trips descendente y seleccionar top 10 barrios\n",
    "top_10_neighborhoods = df_locations.sort_values(by='average_trips', ascending=False).head(10)\n",
    "print(top_10_neighborhoods)"
   ]
  },
  {
   "cell_type": "markdown",
   "id": "0699b488",
   "metadata": {},
   "source": [
    "### 1.6 Gráfico 1: Empresas de taxis vs. número de viajes"
   ]
  },
  {
   "cell_type": "code",
   "execution_count": 130,
   "id": "52469cd1",
   "metadata": {},
   "outputs": [
    {
     "data": {
      "image/png": "[encoded data removed]",
      "text/plain": [
       "<Figure size 1000x600 with 1 Axes>"
      ]
     },
     "metadata": {},
     "output_type": "display_data"
    }
   ],
   "source": [
    "top_companies = df_companies.sort_values(by='trips_amount', ascending=False).head(10)\n",
    "\n",
    "plt.figure(figsize=(10,6))\n",
    "sns.barplot(data=top_companies, x='trips_amount', y='company_name', palette='coolwarm')\n",
    "plt.title('Top 10 empresas de taxis por número de viajes (15-16 Nov 2017)')\n",
    "plt.xlabel('Número de viajes')\n",
    "plt.ylabel('Empresa de taxis')\n",
    "plt.tight_layout()\n",
    "plt.show()"
   ]
  },
  {
   "cell_type": "markdown",
   "id": "ec326b3f",
   "metadata": {},
   "source": [
    "Conclusiones: \n",
    "- Empresas de taxis: Flash Cab y Taxi Affiliation Services lideran claramente el número de viajes en los días 15 y 16 de noviembre. Esto sugiere que son las opciones preferidas o más grandes, posiblemente con mejor cobertura o servicio."
   ]
  },
  {
   "cell_type": "markdown",
   "id": "79b5136c",
   "metadata": {},
   "source": [
    "### 1.7 Gráfico 2: Top 10 barrios por finalización de viajes"
   ]
  },
  {
   "cell_type": "code",
   "execution_count": 131,
   "id": "ca4a4442",
   "metadata": {},
   "outputs": [
    {
     "data": {
      "image/png": "[encoded data removed]",
      "text/plain": [
       "<Figure size 1000x600 with 1 Axes>"
      ]
     },
     "metadata": {},
     "output_type": "display_data"
    }
   ],
   "source": [
    "plt.figure(figsize=(10,6))\n",
    "sns.barplot(data=top_10_neighborhoods, x='average_trips', y='dropoff_location_name', palette='magma')\n",
    "plt.title('Top 10 barrios de Chicago por promedio de viajes finalizados (Nov 2017)')\n",
    "plt.xlabel('Promedio de viajes finalizados')\n",
    "plt.ylabel('Barrio')\n",
    "plt.tight_layout()\n",
    "plt.show()"
   ]
  },
  {
   "cell_type": "markdown",
   "id": "2555e026",
   "metadata": {},
   "source": [
    "Conclusiones: \n",
    "- Los barrios Loop y River North encabezan la lista como los lugares con más viajes terminados, lo que tiene sentido ya que son zonas céntricas, comerciales y turísticas, donde hay mayor actividad y demanda."
   ]
  },
  {
   "cell_type": "markdown",
   "id": "57813b32",
   "metadata": {},
   "source": [
    "# Paso 5: Prueba de hipótesis"
   ]
  },
  {
   "cell_type": "markdown",
   "id": "29dbfc43",
   "metadata": {},
   "source": [
    "El objetivo es comprobar si la duración promedio de los viajes desde el Loop hasta el aeropuerto O'Hare cambia los sábados lluviosos."
   ]
  },
  {
   "cell_type": "code",
   "execution_count": 132,
   "id": "f8f1774a",
   "metadata": {},
   "outputs": [],
   "source": [
    "# Asegurar que start_ts es tipo datetime\n",
    "df_trips['start_ts'] = pd.to_datetime(df_trips['start_ts'])"
   ]
  },
  {
   "cell_type": "code",
   "execution_count": 133,
   "id": "ba7c1fa2",
   "metadata": {},
   "outputs": [],
   "source": [
    "# Filtrar solo los sábados\n",
    "df_trips['day_of_week'] = df_trips['start_ts'].dt.day_name()\n",
    "df_saturdays = df_trips[df_trips['day_of_week'] == 'Saturday']"
   ]
  },
  {
   "cell_type": "code",
   "execution_count": 134,
   "id": "758a7527",
   "metadata": {},
   "outputs": [],
   "source": [
    "# Separar por condiciones climáticas\n",
    "rainy_saturdays = df_saturdays[df_saturdays['weather_conditions'] == 'Bad']['duration_seconds']\n",
    "good_saturdays = df_saturdays[df_saturdays['weather_conditions'] == 'Good']['duration_seconds']"
   ]
  },
  {
   "cell_type": "code",
   "execution_count": 135,
   "id": "215fccb4",
   "metadata": {},
   "outputs": [
    {
     "name": "stdout",
     "output_type": "stream",
     "text": [
      "Tamaño muestra lluviosa: 180\n",
      "Tamaño muestra buen clima: 888\n"
     ]
    }
   ],
   "source": [
    "# Tamaño de muestra\n",
    "print(f\"Tamaño muestra lluviosa: {len(rainy_saturdays)}\")\n",
    "print(f\"Tamaño muestra buen clima: {len(good_saturdays)}\")"
   ]
  },
  {
   "cell_type": "code",
   "execution_count": 136,
   "id": "3b4dc98c",
   "metadata": {},
   "outputs": [
    {
     "name": "stdout",
     "output_type": "stream",
     "text": [
      "Test de Levene (varianzas iguales): p-valor = 0.5332\n"
     ]
    }
   ],
   "source": [
    "# Verificación de varianzas similares\n",
    "from scipy.stats import levene\n",
    "stat, p_levene = levene(rainy_saturdays, good_saturdays)\n",
    "print(f\"Test de Levene (varianzas iguales): p-valor = {p_levene:.4f}\")"
   ]
  },
  {
   "cell_type": "code",
   "execution_count": 137,
   "id": "5509da9d",
   "metadata": {},
   "outputs": [
    {
     "name": "stdout",
     "output_type": "stream",
     "text": [
      "\n",
      " Resultado de la prueba t:\n",
      "Estadístico t: 6.95\n",
      "p-valor: 0.0000\n"
     ]
    }
   ],
   "source": [
    "# Prueba t de dos muestras independientes\n",
    "equal_var = p_levene > 0.05\n",
    "t_stat, p_value = ttest_ind(rainy_saturdays, good_saturdays, equal_var=equal_var)\n",
    "print(f\"\\n Resultado de la prueba t:\")\n",
    "print(f\"Estadístico t: {t_stat:.2f}\")\n",
    "print(f\"p-valor: {p_value:.4f}\")"
   ]
  },
  {
   "cell_type": "code",
   "execution_count": 138,
   "id": "4e809921",
   "metadata": {},
   "outputs": [
    {
     "name": "stdout",
     "output_type": "stream",
     "text": [
      "Rechazamos la hipótesis nula: hay diferencia significativa en la duración promedio de viajes los sábados lluviosos.\n"
     ]
    }
   ],
   "source": [
    "# Conclusión\n",
    "alpha = 0.05\n",
    "if p_value < alpha:\n",
    "    print(\"Rechazamos la hipótesis nula: hay diferencia significativa en la duración promedio de viajes los sábados lluviosos.\")\n",
    "else:\n",
    "    print(\"No podemos rechazar la hipótesis nula: no hay evidencia de diferencia significativa.\")"
   ]
  },
  {
   "cell_type": "markdown",
   "id": "e8c766c4",
   "metadata": {},
   "source": [
    "### Conclusiones - Prueba de Hipótesis"
   ]
  },
  {
   "cell_type": "markdown",
   "id": "05c1c60a",
   "metadata": {},
   "source": [
    "Se realizó una prueba t de Welch para comparar la duración promedio de los viajes desde el Loop hasta el Aeropuerto O'Hare entre sábados lluviosos y sábados con buen clima, adoptando un nivel de significancia de α = 0.05.\n",
    "\n",
    "La hipótesis nula (H₀) planteaba que no existe diferencia significativa en la duración de los viajes entre ambos grupos. El valor p obtenido fue significativamente menor que 0.05, por lo que rechazamos la hipótesis nula.\n",
    "\n",
    "Según los resultados, existe evidencia estadísticamente significativa de que los viajes duran diferente en los sábados lluviosos comparado con los sábados con buen clima. Esto sugiere que el clima impacta de forma relevante en la duración de los trayectos durante esos días."
   ]
  }
 ],
 "metadata": {
  "kernelspec": {
   "display_name": "Python (venv)",
   "language": "python",
   "name": "venv"
  },
  "language_info": {
   "codemirror_mode": {
    "name": "ipython",
    "version": 3
   },
   "file_extension": ".py",
   "mimetype": "text/x-python",
   "name": "python",
   "nbconvert_exporter": "python",
   "pygments_lexer": "ipython3",
   "version": "3.7.12"
  }
 },
 "nbformat": 4,
 "nbformat_minor": 5
}
